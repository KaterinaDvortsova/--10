{
 "cells": [
  {
   "cell_type": "markdown",
   "id": "ce251fa1-c99b-4c81-9118-6d8ea7d8478c",
   "metadata": {},
   "source": [
    "ЗАДАНИЕ. В этом задании вам необходимо использовать набор данных ad.csv. 1) Датасет содежит 2 столбца: объявление (A/B) и действие (0/1). 2) Вам необходимо сформулировать гипотезу, провести ее проверку (пользуясь классическим подходом) и ответить на вопрос какое из объявлений лучше."
   ]
  },
  {
   "cell_type": "markdown",
   "id": "ac946165-e817-4eac-9e2a-c845ba4a29e4",
   "metadata": {},
   "source": [
    "1) Контекст задачи. Команда ux-дизайнеров работает над улучшением рекламного баннера. Конверсия текущего объявления составляет 30%. Цель - достичь показателя конверсии 40%, т.е. новый баннер можно будет считать удачным, если конверсия повысится до 40%."
   ]
  },
  {
   "cell_type": "markdown",
   "id": "31cb9281-60ad-4374-ac3b-0c2048a09fbd",
   "metadata": {},
   "source": [
    "2) Формулировка гипотезы\n",
    "\n",
    "H0: p(a) = p(b)\n",
    "H1: p(a) ≠ p(b)\n",
    "где p(a) и p(b) коэффициент конверсии инфлюенсеров А и В соответственно.\n",
    "\n",
    "Уровень доверия 95%, то есть α =0,05"
   ]
  },
  {
   "cell_type": "markdown",
   "id": "07c9d7f1-4a44-4a0b-90b6-1a7c96e1dc5f",
   "metadata": {},
   "source": [
    "3) Набор данных"
   ]
  },
  {
   "cell_type": "code",
   "execution_count": 4,
   "id": "362cb4b7-a434-4221-8c87-13dc53fb21b0",
   "metadata": {},
   "outputs": [],
   "source": [
    "import pandas as pd\n",
    "import matplotlib.pyplot as plt\n",
    "import numpy as np\n",
    "import scipy.stats as stats\n",
    "import seaborn as sns"
   ]
  },
  {
   "cell_type": "code",
   "execution_count": 5,
   "id": "7cfdca13-b0b4-44d9-86d6-63039149b188",
   "metadata": {},
   "outputs": [],
   "source": [
    "df = pd.read_csv('ad.csv')"
   ]
  },
  {
   "cell_type": "code",
   "execution_count": 19,
   "id": "ef0ab3a8-a9d4-439a-8854-342aaba54209",
   "metadata": {},
   "outputs": [
    {
     "data": {
      "text/html": [
       "<div>\n",
       "<style scoped>\n",
       "    .dataframe tbody tr th:only-of-type {\n",
       "        vertical-align: middle;\n",
       "    }\n",
       "\n",
       "    .dataframe tbody tr th {\n",
       "        vertical-align: top;\n",
       "    }\n",
       "\n",
       "    .dataframe thead th {\n",
       "        text-align: right;\n",
       "    }\n",
       "</style>\n",
       "<table border=\"1\" class=\"dataframe\">\n",
       "  <thead>\n",
       "    <tr style=\"text-align: right;\">\n",
       "      <th></th>\n",
       "      <th>ad_id</th>\n",
       "      <th>action</th>\n",
       "    </tr>\n",
       "  </thead>\n",
       "  <tbody>\n",
       "    <tr>\n",
       "      <th>0</th>\n",
       "      <td>B</td>\n",
       "      <td>1</td>\n",
       "    </tr>\n",
       "    <tr>\n",
       "      <th>1</th>\n",
       "      <td>B</td>\n",
       "      <td>1</td>\n",
       "    </tr>\n",
       "    <tr>\n",
       "      <th>2</th>\n",
       "      <td>A</td>\n",
       "      <td>0</td>\n",
       "    </tr>\n",
       "    <tr>\n",
       "      <th>3</th>\n",
       "      <td>B</td>\n",
       "      <td>0</td>\n",
       "    </tr>\n",
       "    <tr>\n",
       "      <th>4</th>\n",
       "      <td>A</td>\n",
       "      <td>1</td>\n",
       "    </tr>\n",
       "  </tbody>\n",
       "</table>\n",
       "</div>"
      ],
      "text/plain": [
       "  ad_id  action\n",
       "0     B       1\n",
       "1     B       1\n",
       "2     A       0\n",
       "3     B       0\n",
       "4     A       1"
      ]
     },
     "execution_count": 19,
     "metadata": {},
     "output_type": "execute_result"
    }
   ],
   "source": [
    "#примерные значения и структура датафрейма\n",
    "df.head()"
   ]
  },
  {
   "cell_type": "markdown",
   "id": "6a3275a6-59c0-41de-9e9e-701417a2ed67",
   "metadata": {},
   "source": [
    "А - текущие объявления \n",
    "B - новое тестовое объявление \n",
    "\n",
    "action: \n",
    "\n",
    "0 - не было покупки\n",
    "1 - была покупка"
   ]
  },
  {
   "cell_type": "markdown",
   "id": "1b32db93-7986-4952-8dc6-2f697315f642",
   "metadata": {},
   "source": [
    "4. Статистика\n",
    "\n",
    "Для просмотра результатов по сумме кликов по группам, используем Pivot_table"
   ]
  },
  {
   "cell_type": "code",
   "execution_count": 7,
   "id": "caa4b4ee-5790-451c-86b6-4356d2b2ddbd",
   "metadata": {},
   "outputs": [],
   "source": [
    "summary_df = df.pivot_table(values='action', index = 'ad_id', aggfunc=np.sum)"
   ]
  },
  {
   "cell_type": "code",
   "execution_count": 8,
   "id": "8ee0b9e5-cc28-416e-a169-876483e822b7",
   "metadata": {},
   "outputs": [
    {
     "data": {
      "text/html": [
       "<div>\n",
       "<style scoped>\n",
       "    .dataframe tbody tr th:only-of-type {\n",
       "        vertical-align: middle;\n",
       "    }\n",
       "\n",
       "    .dataframe tbody tr th {\n",
       "        vertical-align: top;\n",
       "    }\n",
       "\n",
       "    .dataframe thead th {\n",
       "        text-align: right;\n",
       "    }\n",
       "</style>\n",
       "<table border=\"1\" class=\"dataframe\">\n",
       "  <thead>\n",
       "    <tr style=\"text-align: right;\">\n",
       "      <th></th>\n",
       "      <th>action</th>\n",
       "    </tr>\n",
       "    <tr>\n",
       "      <th>ad_id</th>\n",
       "      <th></th>\n",
       "    </tr>\n",
       "  </thead>\n",
       "  <tbody>\n",
       "    <tr>\n",
       "      <th>A</th>\n",
       "      <td>304</td>\n",
       "    </tr>\n",
       "    <tr>\n",
       "      <th>B</th>\n",
       "      <td>372</td>\n",
       "    </tr>\n",
       "  </tbody>\n",
       "</table>\n",
       "</div>"
      ],
      "text/plain": [
       "       action\n",
       "ad_id        \n",
       "A         304\n",
       "B         372"
      ]
     },
     "execution_count": 8,
     "metadata": {},
     "output_type": "execute_result"
    }
   ],
   "source": [
    "summary_df"
   ]
  },
  {
   "cell_type": "markdown",
   "id": "40515394-b021-4b40-8cd7-39bbd60f286a",
   "metadata": {},
   "source": [
    "Анонимная функция Lombda\n",
    "\n",
    "Небольшие анонимные функции могут быть созданы с ключевым словом lambda. Эта функция возвращает сумму двух аргументов: lambda a, b: a + b. Лямбда-функции можно использовать везде, где требуются функциональные объекты. Они синтаксически ограничены одним выражением."
   ]
  },
  {
   "cell_type": "code",
   "execution_count": 20,
   "id": "7c75f1dd-df45-4cf8-bc50-8deef66b1fb7",
   "metadata": {},
   "outputs": [],
   "source": [
    "lambda_def = lambda x: len(x)"
   ]
  },
  {
   "cell_type": "code",
   "execution_count": 23,
   "id": "66861f2b-49ab-44f3-af5f-fa0937f0777b",
   "metadata": {},
   "outputs": [],
   "source": [
    "#вычислим стандартное отклонение и ошибку для каждой группы\n",
    "summary_df ['total_count'] = df.pivot_table(values='action', index = 'ad_id', aggfunc=lambda x: len(x))\n",
    "\n",
    "summary_df ['conversion_rate'] = df.pivot_table(values='action', index = 'ad_id')"
   ]
  },
  {
   "cell_type": "code",
   "execution_count": 22,
   "id": "07dac778-6009-4656-9321-f61a8897c912",
   "metadata": {},
   "outputs": [
    {
     "data": {
      "text/html": [
       "<div>\n",
       "<style scoped>\n",
       "    .dataframe tbody tr th:only-of-type {\n",
       "        vertical-align: middle;\n",
       "    }\n",
       "\n",
       "    .dataframe tbody tr th {\n",
       "        vertical-align: top;\n",
       "    }\n",
       "\n",
       "    .dataframe thead th {\n",
       "        text-align: right;\n",
       "    }\n",
       "</style>\n",
       "<table border=\"1\" class=\"dataframe\">\n",
       "  <thead>\n",
       "    <tr style=\"text-align: right;\">\n",
       "      <th></th>\n",
       "      <th>action</th>\n",
       "      <th>total_count</th>\n",
       "      <th>conversion_rate</th>\n",
       "    </tr>\n",
       "    <tr>\n",
       "      <th>ad_id</th>\n",
       "      <th></th>\n",
       "      <th></th>\n",
       "      <th></th>\n",
       "    </tr>\n",
       "  </thead>\n",
       "  <tbody>\n",
       "    <tr>\n",
       "      <th>A</th>\n",
       "      <td>304</td>\n",
       "      <td>1000</td>\n",
       "      <td>0.304</td>\n",
       "    </tr>\n",
       "    <tr>\n",
       "      <th>B</th>\n",
       "      <td>372</td>\n",
       "      <td>1000</td>\n",
       "      <td>0.372</td>\n",
       "    </tr>\n",
       "  </tbody>\n",
       "</table>\n",
       "</div>"
      ],
      "text/plain": [
       "       action  total_count  conversion_rate\n",
       "ad_id                                      \n",
       "A         304         1000            0.304\n",
       "B         372         1000            0.372"
      ]
     },
     "execution_count": 22,
     "metadata": {},
     "output_type": "execute_result"
    }
   ],
   "source": [
    "summary_df"
   ]
  },
  {
   "cell_type": "markdown",
   "id": "3ac84836-27cc-41ed-a26c-1e24ebfc1c8d",
   "metadata": {},
   "source": [
    "1. Реклама В эффективнее, чем А. \n",
    "2. Построим график пропорциональности"
   ]
  },
  {
   "cell_type": "code",
   "execution_count": 12,
   "id": "e86d78db-8c7f-4b16-9063-d0f9326ecd8b",
   "metadata": {},
   "outputs": [
    {
     "data": {
      "text/plain": [
       "Text(0, 0.5, 'Коэф-т коверции')"
      ]
     },
     "execution_count": 12,
     "metadata": {},
     "output_type": "execute_result"
    },
    {
     "data": {
      "image/png": "[encoded data removed]",
      "text/plain": [
       "<Figure size 576x432 with 1 Axes>"
      ]
     },
     "metadata": {
      "needs_background": "light"
     },
     "output_type": "display_data"
    }
   ],
   "source": [
    "plt.figure(figsize=(8,6))\n",
    "\n",
    "sns.barplot(x=df['ad_id'], y=df['action'])\n",
    "\n",
    "plt.title('Коэф-т коверсии для каждой группы')\n",
    "plt.xlabel('Группа')\n",
    "plt.ylabel('Коэф-т коверции')"
   ]
  },
  {
   "cell_type": "markdown",
   "id": "81f4b73f-c7d5-4ffa-859a-c97aa624f1d5",
   "metadata": {},
   "source": [
    "5. Проверка гипотезы\n",
    "\n",
    "Можно ли принять, что разница коэффициентов конверсии А и В статистически значима? То есть можем ли мы быть уверены, что разница, которую мы наблюдаем, не случайна?\n",
    "\n",
    "Проверяем гипотезу. \n",
    "\n",
    "Используем критерий Z-статистики для конверсии.\n",
    "\n",
    "Z-статистика или z-оценка – это число, представляющее, на сколько стандартных отклонений выше или ниже среднего значения для совокупности составляет оценка, полученная с помощью z-критерия."
   ]
  },
  {
   "cell_type": "code",
   "execution_count": 13,
   "id": "db7908c0-2feb-437c-a456-9ccfc4be37b4",
   "metadata": {},
   "outputs": [],
   "source": [
    "from statsmodels.stats.proportion import proportions_ztest, proportion_confint"
   ]
  },
  {
   "cell_type": "code",
   "execution_count": 14,
   "id": "bc0bd1d3-0078-4628-94c9-18c0ca52e34c",
   "metadata": {},
   "outputs": [],
   "source": [
    "#Выделяем группы: контрольная А, тестовая В\n",
    "\n",
    "control_results = df[df['ad_id'] == 'A'] ['action']\n",
    "test_results = df[df['ad_id'] == 'B'] ['action']"
   ]
  },
  {
   "cell_type": "markdown",
   "id": "cc6cebb2-92b7-4561-a226-0b2354f46025",
   "metadata": {},
   "source": [
    "Статистический критерий вернет нам значение p-value, которое позволит оценить, есть ли статистическая значимость в разнице конверсий, которую показывавет наш эксперимент.\n",
    "\n",
    "Вычисляем p-value.\n",
    "\n",
    "Передаем функции proportions_ztest следующие параметры: 1) кол-во кликов в каждой группе 2) кол-во просмотров\n"
   ]
  },
  {
   "cell_type": "code",
   "execution_count": 15,
   "id": "3aec1134-e4d9-4f36-ae3d-d7306471fb6b",
   "metadata": {},
   "outputs": [
    {
     "name": "stdout",
     "output_type": "stream",
     "text": [
      "z statistic -3.2144492244084213\n",
      "p-value: 0.0013069502732125403\n"
     ]
    }
   ],
   "source": [
    "nobs = [control_results.count(), test_results.count()]\n",
    "successes = [control_results.sum(), test_results.sum()]\n",
    "\n",
    "z_stat, pval = proportions_ztest(successes, nobs)\n",
    "\n",
    "print('z statistic', z_stat)\n",
    "print('p-value:', pval)"
   ]
  },
  {
   "cell_type": "code",
   "execution_count": 16,
   "id": "4e655232-3473-4e11-bec3-e98f22f72c08",
   "metadata": {},
   "outputs": [],
   "source": [
    "alpha = 0.5"
   ]
  },
  {
   "cell_type": "code",
   "execution_count": 17,
   "id": "21bf1f1e-24a7-4b34-99ee-9e617c5a8059",
   "metadata": {},
   "outputs": [
    {
     "name": "stdout",
     "output_type": "stream",
     "text": [
      "True\n"
     ]
    }
   ],
   "source": [
    "print (pval < alpha)"
   ]
  },
  {
   "cell_type": "markdown",
   "id": "b22b6b49-d82d-4ff4-9569-ff6a0666b6d9",
   "metadata": {},
   "source": [
    "Промежуточные выводы:\n",
    "Т.к. pval < 0.05, то отклоняем нулевую гипотезу. Новое объявление работает иначем, чем предыдущее объявление.\n",
    "\n",
    "Доверительные интервалы"
   ]
  },
  {
   "cell_type": "code",
   "execution_count": 18,
   "id": "00f839c6-06fe-4635-88d4-e8bd30d15d9a",
   "metadata": {},
   "outputs": [
    {
     "name": "stdout",
     "output_type": "stream",
     "text": [
      "Доверительный интервал для контрольной группы А: 0.29418892115262896  -  0.31381107884737103\n",
      "Доверительный интервал для контрольной группы B: 0.3616907600947741  -  0.3823092399052259\n"
     ]
    }
   ],
   "source": [
    "(lower_con, lower_test), (upper_con, upper_test) = proportion_confint(successes, nobs=nobs, alpha=alpha)\n",
    "\n",
    "print('Доверительный интервал для контрольной группы А:', lower_con, ' - ', upper_con)\n",
    "print('Доверительный интервал для контрольной группы B:', lower_test, ' - ', upper_test)"
   ]
  },
  {
   "cell_type": "markdown",
   "id": "5a82d344-7973-4e22-bbcf-aef7232b532f",
   "metadata": {},
   "source": [
    "Промежуточные выводы:\n",
    "    Новый дизайн объявления В, могут улучшить показатели до 40%. \n",
    "    \n",
    "ИТОГ:\n",
    "В ходе АВ-тестирования текущего и тестового вариантов рекламного баннера выявлено, что вариант (В) имеет больший коэффициент конверсии. Внедрение нового дизайна объявления может повысить коэффициент конверсии до 40%."
   ]
  },
  {
   "cell_type": "code",
   "execution_count": null,
   "id": "658d8b05-5e54-445d-9a3b-7d220366a352",
   "metadata": {},
   "outputs": [],
   "source": []
  }
 ],
 "metadata": {
  "kernelspec": {
   "display_name": "Python 3",
   "language": "python",
   "name": "python3"
  },
  "language_info": {
   "codemirror_mode": {
    "name": "ipython",
    "version": 3
   },
   "file_extension": ".py",
   "mimetype": "text/x-python",
   "name": "python",
   "nbconvert_exporter": "python",
   "pygments_lexer": "ipython3",
   "version": "3.8.8"
  },
  "widgets": {
   "application/vnd.jupyter.widget-state+json": {
    "state": {},
    "version_major": 2,
    "version_minor": 0
   }
  }
 },
 "nbformat": 4,
 "nbformat_minor": 5
}
